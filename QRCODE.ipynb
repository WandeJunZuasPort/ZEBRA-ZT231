{
 "cells": [
  {
   "cell_type": "code",
   "execution_count": 5,
   "id": "770ee178-9557-4f69-8222-a51739be06ff",
   "metadata": {},
   "outputs": [
    {
     "name": "stdout",
     "output_type": "stream",
     "text": [
      "Arquivo ZPL gerado: qrcodes_zebra.txt\n"
     ]
    }
   ],
   "source": [
    "def gerar_zpl_qrcodes(inicio, fim, arquivo_saida):\n",
    "    with open(arquivo_saida, 'w') as f:\n",
    "        for i in range(inicio, fim + 1, 3):\n",
    "            f.write(\"^XA\\n\")\n",
    "            for idx, pos in enumerate(range(i, i + 3)):\n",
    "                if pos > fim:\n",
    "                    break  # não gerar além do fim\n",
    "                x = 50 + idx * 200  # ajustar distância horizontal\n",
    "                y = 50  # sempre a mesma altura\n",
    "                seq = str(pos).zfill(6)  # ex: '000001'\n",
    "                zpl = f\"^FO{x},{y}^BQN,2,5^FDQA,{seq}^FS\\n\"\n",
    "                f.write(zpl)\n",
    "            f.write(\"^XZ\\n\\n\")\n",
    "    print(f\"Arquivo ZPL gerado: {arquivo_saida}\")\n",
    "\n",
    "# Parâmetros\n",
    "inicio = 1\n",
    "fim = 100\n",
    "arquivo_saida = \"qrcodes_zebra.txt\"\n",
    "\n",
    "gerar_zpl_qrcodes(inicio, fim, arquivo_saida)\n"
   ]
  },
  {
   "cell_type": "code",
   "execution_count": 6,
   "id": "cb5b53a9-f093-4c89-a6f0-e4991703703b",
   "metadata": {},
   "outputs": [
    {
     "name": "stdout",
     "output_type": "stream",
     "text": [
      "Arquivo ZPL gerado: qrcodes_com_texto.txt\n"
     ]
    }
   ],
   "source": [
    "def gerar_zpl_qrcodes(inicio, fim, arquivo_saida):\n",
    "    with open(arquivo_saida, 'w') as f:\n",
    "        for i in range(inicio, fim + 1, 3):\n",
    "            f.write(\"^XA\\n\")\n",
    "            for idx, pos in enumerate(range(i, i + 3)):\n",
    "                if pos > fim:\n",
    "                    break  # não gerar além do fim\n",
    "                x = 50 + idx * 200  # espaçamento horizontal entre QR Codes\n",
    "                y = 50  # altura do QR code\n",
    "                seq = str(pos).zfill(6)  # '000001', '000002', etc.\n",
    "\n",
    "                # Gerar o QR Code\n",
    "                zpl_qr = f\"^FO{x},{y}^BQN,2,5^FDQA,{seq}^FS\\n\"\n",
    "                f.write(zpl_qr)\n",
    "\n",
    "                # Gerar o texto abaixo do QR Code\n",
    "                text_y = y + 150  # ajustar a altura para aparecer abaixo do QR\n",
    "                zpl_text = f\"^FO{x},{text_y}^A0N,30,30^FD{seq}^FS\\n\"\n",
    "                f.write(zpl_text)\n",
    "            \n",
    "            f.write(\"^XZ\\n\\n\")\n",
    "    print(f\"Arquivo ZPL gerado: {arquivo_saida}\")\n",
    "\n",
    "# Parâmetros\n",
    "inicio = 1\n",
    "fim = 100\n",
    "arquivo_saida = \"qrcodes_com_texto.txt\"\n",
    "\n",
    "gerar_zpl_qrcodes(inicio, fim, arquivo_saida)\n"
   ]
  },
  {
   "cell_type": "code",
   "execution_count": null,
   "id": "b4437dbf-b1ac-431d-88e1-09b0a5356335",
   "metadata": {},
   "outputs": [],
   "source": []
  }
 ],
 "metadata": {
  "kernelspec": {
   "display_name": "Python 3 (ipykernel)",
   "language": "python",
   "name": "python3"
  },
  "language_info": {
   "codemirror_mode": {
    "name": "ipython",
    "version": 3
   },
   "file_extension": ".py",
   "mimetype": "text/x-python",
   "name": "python",
   "nbconvert_exporter": "python",
   "pygments_lexer": "ipython3",
   "version": "3.11.7"
  }
 },
 "nbformat": 4,
 "nbformat_minor": 5
}
